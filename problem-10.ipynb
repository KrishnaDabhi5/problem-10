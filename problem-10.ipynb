{
 "cells": [
  {
   "cell_type": "code",
   "execution_count": 1,
   "id": "4f08d7cc",
   "metadata": {},
   "outputs": [],
   "source": [
    "#Write a program that will take user input of cost price and selling price and determines whether its a loss or a profit"
   ]
  },
  {
   "cell_type": "code",
   "execution_count": 4,
   "id": "dd7e649d",
   "metadata": {},
   "outputs": [
    {
     "name": "stdout",
     "output_type": "stream",
     "text": [
      "enter the cost price: 25\n",
      "enter the selling price: 50\n",
      "profit 25.0\n"
     ]
    }
   ],
   "source": [
    "a = float(input(\"enter the cost price: \"))\n",
    "b = float(input(\"enter the selling price: \"))\n",
    "if a<=b:\n",
    "    amount = b - a\n",
    "    print(\"profit\",amount)\n",
    "else:\n",
    "    print(\"loss\",amount)"
   ]
  },
  {
   "cell_type": "code",
   "execution_count": null,
   "id": "71728810",
   "metadata": {},
   "outputs": [],
   "source": []
  }
 ],
 "metadata": {
  "kernelspec": {
   "display_name": "Python 3 (ipykernel)",
   "language": "python",
   "name": "python3"
  },
  "language_info": {
   "codemirror_mode": {
    "name": "ipython",
    "version": 3
   },
   "file_extension": ".py",
   "mimetype": "text/x-python",
   "name": "python",
   "nbconvert_exporter": "python",
   "pygments_lexer": "ipython3",
   "version": "3.10.8"
  }
 },
 "nbformat": 4,
 "nbformat_minor": 5
}
